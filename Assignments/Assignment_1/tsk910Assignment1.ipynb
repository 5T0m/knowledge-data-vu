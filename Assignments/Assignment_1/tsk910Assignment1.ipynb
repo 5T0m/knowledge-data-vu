{
 "cells": [
  {
   "cell_type": "markdown",
   "source": [
    "# Knowledge and Data 2020: Practical Assignment 1 \n",
    "## Manipulate Propositional Logic and Simple Knowledge Graph Logic"
   ],
   "metadata": {}
  },
  {
   "cell_type": "markdown",
   "source": [
    "- YOUR NAME: Tom Slik\r\n",
    "\r\n",
    "- YOUR VUNetID: tsk910\r\n",
    "\r\n",
    "*(If you do not provide your NAME and VUNetID we will not accept your submission.)*"
   ],
   "metadata": {}
  },
  {
   "cell_type": "markdown",
   "source": [
    "### Learning objectives"
   ],
   "metadata": {}
  },
  {
   "cell_type": "markdown",
   "source": [
    "At the end of this exercise you should be able to perform some simple manipulations of two different formal systems: \n",
    "1. You will be able to transform Propositional Logic statements from one syntactic form to semantically equivalent  alternative representation.\n",
    "2. You will be able to evaluate a Propositional Logic statements given some validation of the propositional variables. \n",
    "3. You will be able to transform one Knowledge Graph into an equivalent one with a different Syntax \n",
    "4. You will be able to calculate simple entailment between two Knowledge Graph"
   ],
   "metadata": {}
  },
  {
   "cell_type": "markdown",
   "source": [
    "### Practicalities"
   ],
   "metadata": {}
  },
  {
   "cell_type": "markdown",
   "source": [
    "Follow this Notebook step-by-step. Some of the exercises are already \n",
    "fully filled in to give you some examples of how to do things. Others are\n",
    "partially filled, and require you to fill in some gaps. And others, you \n",
    "will have to fully program yourself. \n",
    "\n",
    "Of course, you can do the exercises in any Programming Editor of your liking. \n",
    "But you do not have to. Feel free to simply write code in the Notebook. When \n",
    "everythink is filled in and works, save the Notebook and submit it \n",
    "as a Jupyter Notebook (i.e. with an ipynb extension). Please use as name of the \n",
    "Notebook your studentID+Assignment1.ipynb.  \n",
    "\n",
    "Other than in courses dedicated to programming we will not evaluate the style\n",
    "of the programs. But we will test your programs on other data than we provide, \n",
    "and your program should give the correct answers to those test-data as well. "
   ],
   "metadata": {}
  },
  {
   "cell_type": "markdown",
   "source": [
    "## Exercises related to Propositional Logic "
   ],
   "metadata": {}
  },
  {
   "cell_type": "markdown",
   "source": [
    "We will use a very simple, though crude and ugly, representation for Propositional Logic: Propositions are strings, and formulas are lists, starting with an operator as first element in the list, and the subformulas as second and (if appropriate) third argument. (Note that this is slightly different than the definition in the lecture, where Propositions are lists with one argument). These are formulas in Prefix Notation.\n",
    "\n",
    "In the file, there is one formula per line. \n",
    "\n",
    "For simplicity, we will only consider formulas with any of the three variables P, Q and R, and binary operators \">> (if), & (and), | (or)\" and \"~ (not)\". "
   ],
   "metadata": {}
  },
  {
   "cell_type": "markdown",
   "source": [
    "Here are some formulas as examples.\n",
    "\n",
    "(~R & P) >> Q\n",
    "\n",
    "~(((P | ~Q) >> R) >> (P & R)) \n",
    "\n",
    "~(P >> Q) | (R >> P) \n",
    "\n",
    "(P >> Q) | (Q >> ~P)\n"
   ],
   "metadata": {}
  },
  {
   "cell_type": "markdown",
   "source": [
    "The first thing you will have to do is to open the file. The code below will read every line of the file into a list called *content*.\n",
    "\n",
    "Do *not* forget to run the following cell, otherwise, the file will not be opened. import os \n"
   ],
   "metadata": {}
  },
  {
   "cell_type": "code",
   "execution_count": 317,
   "source": [
    "import os \r\n",
    "from logic import *"
   ],
   "outputs": [],
   "metadata": {}
  },
  {
   "cell_type": "code",
   "execution_count": 318,
   "source": [
    "fileDir = os.path.dirname(os.path.realpath('__file__'))\r\n",
    "filename = os.path.join(fileDir, 'PLknowledgebase.txt')\r\n",
    "print(filename)\r\n",
    "with open(filename) as file:\r\n",
    "    content = file.readlines()\r\n",
    "     \r\n",
    "print(content)"
   ],
   "outputs": [
    {
     "output_type": "stream",
     "name": "stdout",
     "text": [
      "C:\\Users\\tomsl\\Google Drive\\AI\\Year 2\\P1_Knowledge and Data\\knowledge-data-vu\\Assignments\\Assignment_1\\PLknowledgebase.txt\n",
      "['(~R & P) >> Q\\n', '~(((P | ~Q) >> R) >> (P & R)) \\n', '~(P >> Q) | (R >> P) \\n', '(P >> Q) | (Q >> ~P)']\n"
     ]
    }
   ],
   "metadata": {}
  },
  {
   "cell_type": "code",
   "execution_count": 319,
   "source": [
    "P, Q, R = vars('P', 'Q', 'R')\r\n",
    "\r\n",
    "for line in content:\r\n",
    "    formula = eval(line.strip())\r\n",
    "    print()\r\n",
    "    print(formula)\r\n",
    "    print(formula.is_tautology())\r\n",
    "    print(type(formula))\r\n"
   ],
   "outputs": [
    {
     "output_type": "stream",
     "name": "stdout",
     "text": [
      "\n",
      "(¬R ^ P) => Q\n",
      "False\n",
      "<class 'logic.Implies'>\n",
      "\n",
      "¬(((P v ¬Q) => R) => (P ^ R))\n",
      "False\n",
      "<class 'logic.Not'>\n",
      "\n",
      "¬(P => Q) v (R => P)\n",
      "False\n",
      "<class 'logic.Or'>\n",
      "\n",
      "(P => Q) v (Q => ¬P)\n",
      "True\n",
      "<class 'logic.Or'>\n"
     ]
    }
   ],
   "metadata": {}
  },
  {
   "cell_type": "markdown",
   "source": [
    "The last procedure makes use of the inbuilt properties of the logic package. Let us do similar stuff ourselves. \r\n",
    "\r\n",
    "### - Task 1: (1 Point) Complete the procedure *prefix* that transforms the formula into Prefix notation, i.e., the operator \"sits\" in front of the two arguments.\r\n",
    "Also use different symbols for operators, IMP for implication, AND for conjunction, OR for disjunction and NEG for negation. "
   ],
   "metadata": {}
  },
  {
   "cell_type": "code",
   "execution_count": 320,
   "source": [
    "def prefix(s):\r\n",
    "    if type(s) is Or:\r\n",
    "        child1 = s.children[0]\r\n",
    "        child2 = s.children[1]\r\n",
    "        string = \"OR(\" + prefix(child1) + prefix(child2) + \")\";\r\n",
    "        return string\r\n",
    "    if type(s) is Implies:\r\n",
    "        child1 = s.children[0]\r\n",
    "        child2 = s.children[1]\r\n",
    "        string = \"IMP(\" + prefix(child1) + prefix(child2) + \")\";\r\n",
    "        return string\r\n",
    "    if type(s) is And:\r\n",
    "        child1 = s.children[0]\r\n",
    "        child2 = s.children[1]\r\n",
    "        string = \"AND(\" + prefix(child1) + prefix(child2) + \")\";\r\n",
    "        return string\r\n",
    "    if type(s) is Not:\r\n",
    "        child1 = s.children[0]\r\n",
    "        string = \"NEG(\" + prefix(child1) + \")\";\r\n",
    "        return string\r\n",
    "    else:\r\n",
    "        return str(s)"
   ],
   "outputs": [],
   "metadata": {}
  },
  {
   "cell_type": "markdown",
   "source": [
    "Execute the following line of code to check whether your procedure works correctly or not."
   ],
   "metadata": {}
  },
  {
   "cell_type": "code",
   "execution_count": 321,
   "source": [
    "for line in content:\r\n",
    "    formula = eval(line.strip())\r\n",
    "    print(prefix(formula))"
   ],
   "outputs": [
    {
     "output_type": "stream",
     "name": "stdout",
     "text": [
      "IMP(AND(NEG(R)P)Q)\n",
      "NEG(IMP(IMP(OR(PNEG(Q))R)AND(PR)))\n",
      "OR(NEG(IMP(PQ))IMP(RP))\n",
      "OR(IMP(PQ)IMP(QNEG(P)))\n"
     ]
    }
   ],
   "metadata": {}
  },
  {
   "cell_type": "markdown",
   "source": [
    "If you run your procedure on the input data, you should get something like the following output: \n",
    "\n",
    "IMP(AND(NEG(R)P)Q)\n",
    "etc"
   ],
   "metadata": {}
  },
  {
   "cell_type": "markdown",
   "source": [
    "### - Task 2: (2 Points) Write a procedure *evaluate* that calculates the value of a formula. \n",
    "\n",
    "Input to the procedure is the formula s, and the three truth values for variable P, Q and R. \n",
    "\n",
    "This is a procedural way to implement the \"meaning\" of the operators (which you can read from the Truth Tables)"
   ],
   "metadata": {}
  },
  {
   "cell_type": "code",
   "execution_count": 322,
   "source": [
    "def evaluate(s, p, q, r):\r\n",
    "    if type(s) is Or:\r\n",
    "        child1 = s.children[0]\r\n",
    "        child2 = s.children[1]\r\n",
    "        if (evaluate(child1,p,q,r) == True) and (evaluate(child2,p,q,r) == True):\r\n",
    "            return True\r\n",
    "        if (evaluate(child1,p,q,r) == True) and (evaluate(child2,p,q,r) == False):\r\n",
    "            return True\r\n",
    "        if (evaluate(child1,p,q,r) == False) and (evaluate(child2,p,q,r) == True):\r\n",
    "            return True\r\n",
    "        if (evaluate(child1,p,q,r) == False) and (evaluate(child2,p,q,r) == False):\r\n",
    "            return False\r\n",
    "    elif type(s) is Implies:\r\n",
    "        child1 = s.children[0]\r\n",
    "        child2 = s.children[1]\r\n",
    "        if (evaluate(child1,p,q,r) == True) and (evaluate(child2,p,q,r) == True):\r\n",
    "            return True\r\n",
    "        if (evaluate(child1,p,q,r) == True) and (evaluate(child2,p,q,r) == False):\r\n",
    "            return False\r\n",
    "        if (evaluate(child1,p,q,r) == False) and (evaluate(child2,p,q,r) == True):\r\n",
    "            return True\r\n",
    "        if (evaluate(child1,p,q,r) == False) and (evaluate(child2,p,q,r) == False):\r\n",
    "            return True\r\n",
    "    elif type(s) is And:\r\n",
    "        child1 = s.children[0]\r\n",
    "        child2 = s.children[1]    \r\n",
    "        if (evaluate(child1,p,q,r) == True) and (evaluate(child2,p,q,r) == True):\r\n",
    "            return True\r\n",
    "        if (evaluate(child1,p,q,r) == True) and (evaluate(child2,p,q,r) == False):\r\n",
    "            return False\r\n",
    "        if (evaluate(child1,p,q,r) == False) and (evaluate(child2,p,q,r) == True):\r\n",
    "            return False\r\n",
    "        if (evaluate(child1,p,q,r) == False) and (evaluate(child2,p,q,r) == False):\r\n",
    "            return False\r\n",
    "    elif type(s) is Not:\r\n",
    "        child1 = s.children[0]\r\n",
    "        if (evaluate(child1,p,q,r) == True):\r\n",
    "            return False\r\n",
    "        if (evaluate(child1,p,q,r) == False):\r\n",
    "            return True\r\n",
    "\r\n",
    "        ## Fill in the remaining cases\r\n",
    "    ## Fill in the remaining cases\r\n",
    "    elif type(s) is Variable:        \r\n",
    "        if str(s) == 'P':\r\n",
    "            return p\r\n",
    "        if str(s) == 'Q':\r\n",
    "            return q\r\n",
    "        if str(s) == 'R':\r\n",
    "            return r\r\n",
    "        ## Fill in the base cases: \r\n",
    "    else:\r\n",
    "        print(\"Something went wrong\") "
   ],
   "outputs": [],
   "metadata": {}
  },
  {
   "cell_type": "markdown",
   "source": [],
   "metadata": {}
  },
  {
   "cell_type": "markdown",
   "source": [
    "Execute the following line of code to check whether your procedure works correctly or not."
   ],
   "metadata": {}
  },
  {
   "cell_type": "code",
   "execution_count": 323,
   "source": [
    "for l in content:\r\n",
    "     print(evaluate(eval(l.strip()),True,True,False))"
   ],
   "outputs": [
    {
     "output_type": "stream",
     "name": "stdout",
     "text": [
      "True\n",
      "False\n",
      "True\n",
      "True\n"
     ]
    }
   ],
   "metadata": {}
  },
  {
   "cell_type": "markdown",
   "source": [
    "If you run your program on the given input, you should get an answer like this (modulo editing): <br />\n",
    "True<br />\n",
    "False<br />\n",
    "True<br />\n",
    "True<br />"
   ],
   "metadata": {}
  },
  {
   "cell_type": "markdown",
   "source": [
    "### - Task 3: (2 Points) Write a procedure *tautology* that calculates whether a given formula (with maximally three variables P,Q and R) is a tautology \n",
    "Hint: Use the *evaluate* function you just wrote and implement a \"truthtable\" approach whether the formula is always evaluated as \"true\". "
   ],
   "metadata": {}
  },
  {
   "cell_type": "code",
   "execution_count": 324,
   "source": [
    "def tautology(s):\r\n",
    "    if evaluate(s,True,True,True) and evaluate(s,True,True,False) and evaluate(s,True,False,True) and evaluate(s,False,True,True) and evaluate(s,False,True,False) and evaluate(s,True,False,False) and evaluate(s,False,False,True) and evaluate(s,False,False,False) == True:\r\n",
    "        return True\r\n",
    "    else:\r\n",
    "        return False\r\n"
   ],
   "outputs": [],
   "metadata": {}
  },
  {
   "cell_type": "markdown",
   "source": [
    "Execute the following line of code to check whether your procedure works correctly or not."
   ],
   "metadata": {}
  },
  {
   "cell_type": "markdown",
   "source": [],
   "metadata": {}
  },
  {
   "cell_type": "code",
   "execution_count": 325,
   "source": [
    "for l in content:\r\n",
    "     print(repr(tautology(eval(l.strip()))))"
   ],
   "outputs": [
    {
     "output_type": "stream",
     "name": "stdout",
     "text": [
      "False\n",
      "False\n",
      "False\n",
      "True\n"
     ]
    }
   ],
   "metadata": {}
  },
  {
   "cell_type": "markdown",
   "source": [
    "When you evaluate your code on the provided input, you should get something like the following: <br />\n",
    "False<br />\n",
    "False<br />\n",
    "False<br />\n",
    "True<br />"
   ],
   "metadata": {}
  },
  {
   "cell_type": "markdown",
   "source": [
    "## Exercises related to Simple Knowledge Graph Logic "
   ],
   "metadata": {}
  },
  {
   "cell_type": "markdown",
   "source": [
    "We will use a very simple, though crude and ugly, representation for Simple Knowledge Graph Logic: Resources are strings, and triples are lists of Resources. So, a triple ( s p o ) will be represented as a list [s,p,o], and a Knowledge Graph with two triples (s1, p1, o1) and (s2, p2, o2) as a list containing two lists: [[s1,p1,o1],[s2,p2,o2]].\r\n",
    "\r\n",
    "Every line contains a knowledge graph (one list). \r\n",
    "\r\n",
    "Run the following code to load the Knowledge Graph in knowledgegraph.txt"
   ],
   "metadata": {}
  },
  {
   "cell_type": "code",
   "execution_count": 326,
   "source": [
    "import os \r\n",
    "fileDir = os.path.dirname(os.path.realpath('__file__'))\r\n",
    "filename = os.path.join(fileDir, 'knowledgegraph.txt')\r\n",
    "with open(filename) as file:\r\n",
    "    content = file.readlines()"
   ],
   "outputs": [],
   "metadata": {}
  },
  {
   "cell_type": "markdown",
   "source": [
    "Maybe you want to write a function to print this graph for convenience ... (no extra points, though) "
   ],
   "metadata": {}
  },
  {
   "cell_type": "code",
   "execution_count": 327,
   "source": [
    "for line in content:\r\n",
    "    formula = eval(line.strip())\r\n",
    "    print(formula)"
   ],
   "outputs": [
    {
     "output_type": "stream",
     "name": "stdout",
     "text": [
      "[['s', 'p', 'o'], ['s', 'p1', 'o2'], ['s2', 'p2', 'o']]\n",
      "[['Netherlands', 'name', '\"Netherlands\"'], ['Netherlands', 'has_capital', 'Amsterdam'], ['Amsterdam', 'a', 'Capital']]\n",
      "[['Netherlands', 'name', '\"Netherlands\"'], ['Netherlands', 'has_capital', 'Amsterdam'], ['Amsterdam', 'a', 'Capital'], ['Capital', 'a', 'City'], ['Netherlands', 'neighbours', 'Belgium'], ['Netherlands', 'a', 'Country']]\n"
     ]
    }
   ],
   "metadata": {}
  },
  {
   "cell_type": "markdown",
   "source": [
    "The next two exercises are about syntactic transformation of Knowledge Graphs. The two target formats are simplified versions of syntaxes for the language RDF that we will introduce later. \r\n",
    "\r\n",
    "### - Task 4a: (1 Point) Write a procedure to transform the Knowledge Graphs into Simple-n-triple syntax. \r\n",
    "Simple-n-triple is a simple (the most simple?) representation format for representing Knowledge Graphs. \r\n",
    "\r\n",
    "A triple (s,p,o) is simply written as as follows:\r\n",
    "\r\n",
    "     s p o . \r\n",
    "     \r\n",
    "As one string, with blanks between s,p and o, and a dot after the triple. \r\n",
    "\r\n",
    "First, write a function that transforms a triple ['s','p','o'] into a single string \"s p o .\""
   ],
   "metadata": {}
  },
  {
   "cell_type": "code",
   "execution_count": 328,
   "source": [
    "def simplify(triple):\r\n",
    "    simpletriple = \"\"\r\n",
    "    for i in triple:\r\n",
    "        simpletriple += \" \" + i\r\n",
    "    simpletriple = simpletriple[1:] + \".\"\r\n",
    "    return simpletriple\r\n"
   ],
   "outputs": [],
   "metadata": {}
  },
  {
   "cell_type": "code",
   "execution_count": 329,
   "source": [
    "def ntriple(graph):\r\n",
    "    whole = []\r\n",
    "    for j in graph:\r\n",
    "        simple_line = simplify(j)\r\n",
    "        whole.append(simple_line)\r\n",
    "    return whole"
   ],
   "outputs": [],
   "metadata": {}
  },
  {
   "cell_type": "markdown",
   "source": [
    "Execute the following line of code to check whether your procedure works correctly or not."
   ],
   "metadata": {}
  },
  {
   "cell_type": "code",
   "execution_count": 330,
   "source": [
    "for m in content:\r\n",
    "     print(ntriple(eval(m.strip())))"
   ],
   "outputs": [
    {
     "output_type": "stream",
     "name": "stdout",
     "text": [
      "['s p o.', 's p1 o2.', 's2 p2 o.']\n",
      "['Netherlands name \"Netherlands\".', 'Netherlands has_capital Amsterdam.', 'Amsterdam a Capital.']\n",
      "['Netherlands name \"Netherlands\".', 'Netherlands has_capital Amsterdam.', 'Amsterdam a Capital.', 'Capital a City.', 'Netherlands neighbours Belgium.', 'Netherlands a Country.']\n"
     ]
    }
   ],
   "metadata": {}
  },
  {
   "cell_type": "markdown",
   "source": [
    "Your answer could look like this: <br />\n",
    "['s p o .', 's p1 o2 .', 's2 p2 o .']<br />\n",
    "['Netherlands name \"Netherlands\" .', 'Netherlands has_capital Amsterdam .', 'Amsterdam a Capital .']<br />\n",
    "['Netherlands name \"Netherlands\" .', 'Netherlands has_capital Amsterdam .', 'Amsterdam a Capital .', 'Capital a City .', 'Netherlands neighbours Belgium .', 'Netherlands a Country .']<br />\n",
    "but it would also be ok if you return one string, where all string represetations for triples are concatenated into one string. If in doubt, post a question on Piazza. "
   ],
   "metadata": {}
  },
  {
   "cell_type": "markdown",
   "source": [
    "### - Task 4b: (Optional - 1 Extra Point) Write a procedure to transform the Knowledge Graphs into *simpleturtle*. \n",
    "Simpleturtle is a more compact format for representing Knowledge Graphs. \n",
    "\n",
    "A triple (s,p,o) is again written like in simple-n-triples: \"s p o .\" as one string, with blanks between s,p and o, and a dot after the triple. But now, suppose there are more triples with the same \"subject\", i.e. the first element of the triple, e.g. (s,p1,o1), (s,p2,o2) and (s,p1,o2). These triples will then be written in a more compact format, namely: \n",
    "\n",
    "(s p1 o1; p2 o2; p1 o2) \n",
    "\n",
    "The \";\" is interpreted as disjunction. \n",
    "\n",
    "Write such a function simpleturtle:"
   ],
   "metadata": {}
  },
  {
   "cell_type": "code",
   "execution_count": 331,
   "source": [
    "def simpleturtle(triples):\r\n",
    "    list1 = []\r\n",
    "    simpleturtle = \"\"\r\n",
    "    turtleapp = \"\"\r\n",
    "    ele1 = [\"\"]\r\n",
    "    for triple in triples:\r\n",
    "        ele1.append(triple[0])\r\n",
    "        \r\n",
    "        for ele in ele1[:-2]:\r\n",
    "            if ele == ele1[-1]:\r\n",
    "                turtleapp = \" \".join(triple[1:])\r\n",
    "                turtleapp = \"; \" + turtleapp\r\n",
    "            \r\n",
    "            else:\r\n",
    "                turtleapp = \" \".join(triple)\r\n",
    "                turtleapp = \", \" + turtleapp \r\n",
    "\r\n",
    "        list1.append(turtleapp)\r\n",
    "        simpleturtle = \"\".join(list1)\r\n",
    "\r\n",
    "\r\n",
    "    \r\n",
    "    return simpleturtle\r\n",
    "\r\n",
    "                \r\n",
    "\r\n",
    "\r\n",
    "        \r\n",
    "        \r\n",
    "        "
   ],
   "outputs": [],
   "metadata": {}
  },
  {
   "cell_type": "markdown",
   "source": [
    "Check whether your code works correctly: "
   ],
   "metadata": {}
  },
  {
   "cell_type": "code",
   "execution_count": 332,
   "source": [
    "for m in content:\r\n",
    "     print(simpleturtle(eval(m.strip())))"
   ],
   "outputs": [
    {
     "output_type": "stream",
     "name": "stdout",
     "text": [
      ", s p1 o2, s2 p2 o\n",
      ", Netherlands has_capital Amsterdam, Amsterdam a Capital\n",
      ", Netherlands has_capital Amsterdam, Amsterdam a Capital, Capital a City, Netherlands neighbours Belgium, Netherlands a Country\n"
     ]
    }
   ],
   "metadata": {}
  },
  {
   "cell_type": "markdown",
   "source": [
    "Your answer could look like this:<br />\n",
    "['s p o ; p1 o2 .', 's2 p2 o .']<br />\n",
    "['Netherlands name \"Netherlands ; has_capital Amsterdam .', 'Amsterdam a Capital .']<br />\n",
    "['Netherlands name \"Netherlands\" ; has_capital Amsterdam ; neighbours Belgium ; a Country .', 'Amsterdam a Capital .', 'Capital a City .']<br />\n",
    "but similar representations might also be ok (e.g. as strings). If in doubt, post a question on Piazza.<br />\n",
    "\n",
    "Most elegant would be if you add indents, such as a representation<br />\n",
    "[<br />\n",
    "'s p o ; <br />\n",
    "&nbsp;&nbsp;&nbsp;&nbsp;    p1 o2 .', <br />\n",
    "'s2 p2 o .'<br />\n",
    "]<br />\n",
    "This is more close to the \"real\" Turtle format. "
   ],
   "metadata": {}
  },
  {
   "cell_type": "markdown",
   "source": [
    "### - Task 5: (2 Points) Write a procedure to evaluate whether a Triple (s p o) is entailed by your Knowledge Graph\n",
    "\n",
    "Remember that we can calculate whether a triple is entailed by a Knowledge Graph (w.r.t Simple Knowledge Graph Logic) by simply checking whether the triple is a subgraph of the knowledge graph.  \n",
    "\n",
    "The triples, on which you can test your implementations are located in the file: entailedTriple.txt. You need to open the file and check for all triples whether it is entailed by the knowledge graphs in knowledgegraph.txt (which is already opened). \n",
    "\n",
    "You might want to add auxiliary functions in extra cells if necessary."
   ],
   "metadata": {}
  },
  {
   "cell_type": "code",
   "execution_count": 333,
   "source": [
    "import os \r\n",
    "fileDir = os.path.dirname(os.path.realpath('__file__'))\r\n",
    "filename = os.path.join(fileDir, 'entailedTriples.txt')\r\n",
    "with open(filename) as file:\r\n",
    "    entailments = file.readlines()"
   ],
   "outputs": [],
   "metadata": {}
  },
  {
   "cell_type": "code",
   "execution_count": 334,
   "source": [
    "for line in entailments:\r\n",
    "    formula = eval(line.strip())\r\n",
    "    formula = \" \".join(formula)\r\n",
    "    formula += \".\"\r\n",
    "    print(formula)\r\n",
    "\r\n",
    "for m in content:\r\n",
    "    print(ntriple(eval(m.strip())))"
   ],
   "outputs": [
    {
     "output_type": "stream",
     "name": "stdout",
     "text": [
      "s2 p2 o.\n",
      "Netherlands name \"Netherlands\".\n",
      "['s p o.', 's p1 o2.', 's2 p2 o.']\n",
      "['Netherlands name \"Netherlands\".', 'Netherlands has_capital Amsterdam.', 'Amsterdam a Capital.']\n",
      "['Netherlands name \"Netherlands\".', 'Netherlands has_capital Amsterdam.', 'Amsterdam a Capital.', 'Capital a City.', 'Netherlands neighbours Belgium.', 'Netherlands a Country.']\n"
     ]
    }
   ],
   "metadata": {}
  },
  {
   "cell_type": "code",
   "execution_count": 420,
   "source": [
    "def tripleEntail(knowledgebase, entailments): # This function only does it the other way around as asked. Goes past all entailed triples and looks for corresponding lines in the knowledge graph\r\n",
    "    value = False\r\n",
    "    for j in entailments:\r\n",
    "        formula = eval(j.strip())\r\n",
    "        formula = \" \".join(formula)\r\n",
    "        formula += \".\"\r\n",
    "        for i in knowledgebase:\r\n",
    "            KBcontent = ntriple(eval(i.strip()))\r\n",
    "            for p in KBcontent:       \r\n",
    "                if (p == formula):\r\n",
    "                    value = True\r\n",
    "                \r\n",
    "\r\n",
    "            if value == True:\r\n",
    "                print(i + \" entails \" + j)\r\n",
    "                value = False\r\n",
    "            else:\r\n",
    "                print(i + \" does NOT entail \" + j)"
   ],
   "outputs": [],
   "metadata": {}
  },
  {
   "cell_type": "markdown",
   "source": [
    "Provide some code to check that your function works correctly.  "
   ],
   "metadata": {}
  },
  {
   "cell_type": "code",
   "execution_count": 421,
   "source": [
    "tripleEntail(content, entailments)"
   ],
   "outputs": [
    {
     "output_type": "stream",
     "name": "stdout",
     "text": [
      "[['s','p','o'],['s','p1','o2'],['s2','p2','o']]\n",
      " entails ['s2','p2','o']\n",
      "\n",
      "[['Netherlands','name','\"Netherlands\"'],['Netherlands','has_capital','Amsterdam'],['Amsterdam','a','Capital']] \n",
      " does NOT entail ['s2','p2','o']\n",
      "\n",
      "[['Netherlands','name','\"Netherlands\"'],['Netherlands','has_capital','Amsterdam'],['Amsterdam','a','Capital'],['Capital','a','City'],['Netherlands','neighbours','Belgium'],['Netherlands','a','Country']] \n",
      " does NOT entail ['s2','p2','o']\n",
      "\n",
      "[['s','p','o'],['s','p1','o2'],['s2','p2','o']]\n",
      " does NOT entail ['Netherlands','name','\"Netherlands\"']\n",
      "[['Netherlands','name','\"Netherlands\"'],['Netherlands','has_capital','Amsterdam'],['Amsterdam','a','Capital']] \n",
      " entails ['Netherlands','name','\"Netherlands\"']\n",
      "[['Netherlands','name','\"Netherlands\"'],['Netherlands','has_capital','Amsterdam'],['Amsterdam','a','Capital'],['Capital','a','City'],['Netherlands','neighbours','Belgium'],['Netherlands','a','Country']] \n",
      " entails ['Netherlands','name','\"Netherlands\"']\n"
     ]
    }
   ],
   "metadata": {}
  },
  {
   "cell_type": "markdown",
   "source": [
    "The expected output is a list of relations between graphs and triples<br />\n",
    "[['s','p','o'],['s','p1','o2'],['s2','p2','o']] entails ['s2','p2','o']<br />\n",
    "[['s','p','o'],['s','p1','o2'],['s2','p2','o']] does NOT entail ['Netherlands','name','\"Netherlands\"']<br />\n",
    "and so on for all graphs and triples. "
   ],
   "metadata": {}
  },
  {
   "cell_type": "markdown",
   "source": [
    "### - Task 6: (2 Points) Write a procedure to evaluate whether one Knowledge Graph is entailed by another Knowledge Graph"
   ],
   "metadata": {}
  },
  {
   "cell_type": "markdown",
   "source": [
    "The graphs, on which you can test your implementations are located in the file: entailedGraphs.txt. \n",
    "\n",
    "You might want to add auxiliary functions in extra cells if necessary."
   ],
   "metadata": {}
  },
  {
   "cell_type": "code",
   "execution_count": 337,
   "source": [
    "## Your code here\r\n",
    "def graphEntail():\r\n",
    "    pass"
   ],
   "outputs": [],
   "metadata": {}
  },
  {
   "cell_type": "markdown",
   "source": [
    "Provide some code to check that your function works correctly.  "
   ],
   "metadata": {}
  },
  {
   "cell_type": "code",
   "execution_count": null,
   "source": [],
   "outputs": [],
   "metadata": {}
  },
  {
   "cell_type": "markdown",
   "source": [
    "The expected output is a list of relations between graphs and graphs<br />\n",
    "[['s','p','o'],['s','p1','o2'],['s2','p2','o']] entails [['s','p','o'],['s2','p2','o']]<br />\n",
    "[['s','p','o'],['s','p1','o2'],['s2','p2','o']] entails [['s2','p2','o'],['s2','p2','o']]<br />\n",
    "[['s','p','o'],['s','p1','o2'],['s2','p2','o']] does NOT entail [['Netherlands','name','\"Netherlands\"'],['Netherlands','has_capital','Amsterdam'],['Capital','a','City'],['Netherlands','neighbours','Belgium']]\n",
    " [['s','p','o'],['s2','p2','o']]<br />\n",
    "and so on for all graphs and triples. "
   ],
   "metadata": {}
  }
 ],
 "metadata": {
  "kernelspec": {
   "name": "python3",
   "display_name": "Python 3.8.1 64-bit"
  },
  "language_info": {
   "codemirror_mode": {
    "name": "ipython",
    "version": 3
   },
   "file_extension": ".py",
   "mimetype": "text/x-python",
   "name": "python",
   "nbconvert_exporter": "python",
   "pygments_lexer": "ipython3",
   "version": "3.8.1"
  },
  "interpreter": {
   "hash": "0385e128c5aca483b1b37a0be86de9f407716048be9491c0a15312f4c6b7dfa0"
  }
 },
 "nbformat": 4,
 "nbformat_minor": 4
}