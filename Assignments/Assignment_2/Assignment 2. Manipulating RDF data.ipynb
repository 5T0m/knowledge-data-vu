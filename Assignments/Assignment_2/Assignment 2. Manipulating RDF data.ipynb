{
 "cells": [
  {
   "cell_type": "markdown",
   "source": [
    "# Knowledge and Data 2020: Practical Assignment 2\n",
    "## Manipulate local and external RDF Knowledge Graphs "
   ],
   "metadata": {}
  },
  {
   "cell_type": "markdown",
   "source": [
    "YOUR NAME: Tom Slik\r\n",
    "\r\n",
    "YOUR VUNetID: tsk910\r\n",
    "\r\n",
    "*(If you do not provide your name and VUNetID we will not accept your submission).*"
   ],
   "metadata": {}
  },
  {
   "cell_type": "markdown",
   "source": [
    "### Learning objectives"
   ],
   "metadata": {}
  },
  {
   "cell_type": "markdown",
   "source": [
    "At the end of this exercise you should be able to perform some simple manipulations of RDF Data using the rdflib library. You should be able to: \n",
    "\n",
    "1. Add and retrieve information from a local RDF database\n",
    "2. Represent RDF data in other formats, such as the .dot format for graph visualisation\n",
    "3. Retrieve information from an RDF database created from Web Data\n",
    "4. Query information from the Web with SPARQL"
   ],
   "metadata": {}
  },
  {
   "cell_type": "markdown",
   "source": [
    "### Practicalities"
   ],
   "metadata": {}
  },
  {
   "cell_type": "markdown",
   "source": [
    "Follow this Notebook step-by-step. \n",
    "\n",
    "Of course, you can do the exercises in any Programming Editor of your liking. \n",
    "But you do not have to. Feel free to simply write code in the Notebook. When \n",
    "everything is filled in and works, save the Notebook and submit it \n",
    "as a Jupyter Notebook, i.e. with an .ipynb extension. Please use as name of the \n",
    "Notebook your studentID+Assignment2.ipynb.  \n",
    "\n",
    "Other than in courses dedicated to programming we will not evaluate the style\n",
    "of the programs. But we will test your programs on other data than we provide, \n",
    "and your program should give the correct answers to those test-data as well. "
   ],
   "metadata": {}
  },
  {
   "cell_type": "markdown",
   "source": [
    "# A. Tasks related to local RDF Knowledge Graphs"
   ],
   "metadata": {}
  },
  {
   "cell_type": "markdown",
   "source": [
    "This first cell will open a file 'example-from-slide.ttl' using the rdflib library. The first Practical Assignment should have taught you that manipulating symbols as strings is a major pain. \r\n",
    "\r\n",
    "Programming libraries, such as **rdflib**, help you with this mess once and for all, by parsing the files, creating appropriate datastructures (Graph()) and providing useful functions (such as serialize(), save() and much more). \r\n",
    "Check the website of rdflib http://rdflib.readthedocs.io/: this library does most of the hard work for you.\r\n",
    "\r\n",
    "Before starting with the tasks of this assignment, do not forget to install **rdflib** so we can start using it. Installing libraries in Python is very simple. Just open your terminal and write the following command:\r\n",
    "\r\n",
    "    $ pip install rdflib\r\n",
    "\r\n",
    "For more details on how to install pip and Python libraries, you can check the [preliminaries document](https://github.com/raadjoe/knowledge-data-vu/blob/master/Tutorials/Preliminaries/preliminaries.md).  "
   ],
   "metadata": {}
  },
  {
   "cell_type": "code",
   "execution_count": 269,
   "source": [
    "from rdflib import Graph, RDF, Namespace, Literal, URIRef\r\n",
    "\r\n",
    "g = Graph()\r\n",
    "\r\n",
    "EX = Namespace('http://example.com/kad2020/')\r\n",
    "g.bind('ex',EX)\r\n",
    "\r\n",
    "def serialize():\r\n",
    "    # g.serialize() returns a byte string (b'...')\r\n",
    "    # .decode() is parsing the byte string into a python3 string\r\n",
    "    print(g.serialize(format='turtle'))\r\n",
    "\r\n",
    "def save(filename):\r\n",
    "    with open(filename, 'w') as f:\r\n",
    "        g.serialize(f, format='nt')\r\n",
    "        \r\n",
    "def load(filename):\r\n",
    "    with open(filename, 'r') as f:\r\n",
    "        g.load(f, format='turtle')   "
   ],
   "outputs": [],
   "metadata": {}
  },
  {
   "cell_type": "markdown",
   "source": [
    "The file 'example-from-slides.ttl' formalises the knowledge base from the slides from Module 1, and a bit more. \n",
    "\n",
    "Here is how it looks when you load it into your program and serialise it with rdflib in turtle. "
   ],
   "metadata": {}
  },
  {
   "cell_type": "code",
   "execution_count": 270,
   "source": [
    "load('example-from-slides.ttl')\r\n",
    "serialize()"
   ],
   "outputs": [
    {
     "output_type": "stream",
     "name": "stdout",
     "text": [
      "@prefix ex: <http://example.com/kad2020/> .\n",
      "@prefix rdfs: <http://www.w3.org/2000/01/rdf-schema#> .\n",
      "\n",
      "ex:Germany a ex:EuropeanCountry .\n",
      "\n",
      "ex:Netherlands a ex:Country ;\n",
      "    ex:has_Capital ex:Amsterdam ;\n",
      "    ex:has_Name \"The Netherlands\" ;\n",
      "    ex:neighbours ex:Belgium .\n",
      "\n",
      "ex:hasCapital rdfs:range ex:Capital ;\n",
      "    rdfs:subPropertyOf ex:containsCity .\n",
      "\n",
      "ex:Amsterdam a ex:Capital .\n",
      "\n",
      "ex:Belgium a ex:Country .\n",
      "\n",
      "ex:EuropeanCountry rdfs:subClassOf ex:Country .\n",
      "\n",
      "ex:containsCity rdfs:domain ex:Country ;\n",
      "    rdfs:range ex:City .\n",
      "\n",
      "ex:Capital rdfs:subClassOf ex:City .\n",
      "\n",
      "\n"
     ]
    }
   ],
   "metadata": {}
  },
  {
   "cell_type": "markdown",
   "source": [
    "Now, we can manipulate the graph very easily, e.g. like in the following very simple function, which returns the predicate(s) that relate a subject to a literal object: "
   ],
   "metadata": {}
  },
  {
   "cell_type": "code",
   "execution_count": 271,
   "source": [
    "for s,p,o in g:\r\n",
    "    if type(o) == Literal:\r\n",
    "        print(p)"
   ],
   "outputs": [
    {
     "output_type": "stream",
     "name": "stdout",
     "text": [
      "http://example.com/kad2020/has_Name\n"
     ]
    }
   ],
   "metadata": {
    "scrolled": true
   }
  },
  {
   "cell_type": "markdown",
   "source": [
    "### - Task 1: (1 Point) Add information to an RDF graph"
   ],
   "metadata": {}
  },
  {
   "cell_type": "markdown",
   "source": [
    "Add 10 triples to the knowledge graph. Make sure that they have the right namespaces. \r\n",
    "\r\n",
    "Similarily to the triples already present in the file 'example-from-slides.ttl', add at least:\r\n",
    "- a new country with its name and capital \r\n",
    "- one triple with a new predicate\r\n",
    "\r\n",
    "Check: http://rdflib.readthedocs.io/en/stable/intro_to_creating_rdf.html"
   ],
   "metadata": {}
  },
  {
   "cell_type": "code",
   "execution_count": 272,
   "source": [
    "ex = Namespace(\"http://example.com/kad2020/\")\r\n",
    "owl = Namespace('http://www.w3.org/2002/07/owl#')\r\n",
    "\r\n",
    "\r\n",
    "# add 10 triples here to the graph 'g' (do not forget the namespaces).\r\n",
    "\r\n",
    "g.add((ex.Belgium, ex.has_Name, Literal('Belgium')))\r\n",
    "g.add((ex.Brussels, RDF.type, ex.Capital))\r\n",
    "g.add((ex.France, RDF.type, ex.EuropeanCountry))\r\n",
    "g.add((ex.France, ex.has_Name, Literal('France')))\r\n",
    "g.add((ex.France, ex.neighbours, ex.France))\r\n",
    "g.add((ex.Belgium, ex.neighbours, ex.Germany))\r\n",
    "g.add((ex.Germany, ex.has_Name, Literal('Germany')))\r\n",
    "g.add((ex.Germany, ex.has_SurfaceArea, Literal(357386)))\r\n",
    "g.add((ex.Iceland, ex.has_Name, Literal('Iceland')))\r\n",
    "g.add((ex.Iceland, ex.neighbours, ex.the_Ocean))\r\n",
    "\r\n",
    "\r\n",
    "\r\n",
    "\r\n",
    "\r\n",
    "print(g.serialize(format='turtle'))"
   ],
   "outputs": [
    {
     "output_type": "stream",
     "name": "stdout",
     "text": [
      "@prefix ex: <http://example.com/kad2020/> .\n",
      "@prefix rdfs: <http://www.w3.org/2000/01/rdf-schema#> .\n",
      "@prefix xsd: <http://www.w3.org/2001/XMLSchema#> .\n",
      "\n",
      "ex:Brussels a ex:Capital .\n",
      "\n",
      "ex:Iceland ex:has_Name \"Iceland\" ;\n",
      "    ex:neighbours ex:the_Ocean .\n",
      "\n",
      "ex:Netherlands a ex:Country ;\n",
      "    ex:has_Capital ex:Amsterdam ;\n",
      "    ex:has_Name \"The Netherlands\" ;\n",
      "    ex:neighbours ex:Belgium .\n",
      "\n",
      "ex:hasCapital rdfs:range ex:Capital ;\n",
      "    rdfs:subPropertyOf ex:containsCity .\n",
      "\n",
      "ex:Amsterdam a ex:Capital .\n",
      "\n",
      "ex:Belgium a ex:Country ;\n",
      "    ex:has_Name \"Belgium\" ;\n",
      "    ex:neighbours ex:Germany .\n",
      "\n",
      "ex:France a ex:EuropeanCountry ;\n",
      "    ex:has_Name \"France\" ;\n",
      "    ex:neighbours ex:France .\n",
      "\n",
      "ex:Germany a ex:EuropeanCountry ;\n",
      "    ex:has_Name \"Germany\" ;\n",
      "    ex:has_SurfaceArea 357386 .\n",
      "\n",
      "ex:containsCity rdfs:domain ex:Country ;\n",
      "    rdfs:range ex:City .\n",
      "\n",
      "ex:EuropeanCountry rdfs:subClassOf ex:Country .\n",
      "\n",
      "ex:Capital rdfs:subClassOf ex:City .\n",
      "\n",
      "\n"
     ]
    }
   ],
   "metadata": {}
  },
  {
   "cell_type": "markdown",
   "source": [
    "*After you ran the previous code (adding triples) the next cells will be executed on your extended graph. That is ok.*"
   ],
   "metadata": {}
  },
  {
   "cell_type": "markdown",
   "source": [
    "### - Task 2a: (1 Point) Get structured information from an RDF graph (all Literals)"
   ],
   "metadata": {}
  },
  {
   "cell_type": "markdown",
   "source": [
    "Use the functions available in the RDFLib library. Write a small function to print all Literals. \n",
    "\n",
    "Hint: there is a function in rdflib to test the type of an object (check previous examples in this notebook)"
   ],
   "metadata": {}
  },
  {
   "cell_type": "code",
   "execution_count": 273,
   "source": [
    "for s,p,o in g:\r\n",
    "    if type(o) == Literal:\r\n",
    "        print(o)\r\n",
    "\r\n",
    "\r\n",
    "# Predicates cannot be Literals, so we do not need to check for that in g.\r\n",
    "    "
   ],
   "outputs": [
    {
     "output_type": "stream",
     "name": "stdout",
     "text": [
      "Iceland\n",
      "The Netherlands\n",
      "357386\n",
      "Germany\n",
      "France\n",
      "Belgium\n"
     ]
    }
   ],
   "metadata": {}
  },
  {
   "cell_type": "markdown",
   "source": [
    "### - Task 2b: (1 Point) Get structured information from an RDF graph (all unique Predicates)"
   ],
   "metadata": {}
  },
  {
   "cell_type": "markdown",
   "source": [
    "Please provide another function that gives a **unique** list of the predicates, ordered by occurrence (most occurring first). The answer will look like this: \n",
    "<br>http://www.w3.org/2000/01/rdf-schema#label\n",
    "<br>http://www.w3.org/1999/02/22-rdf-syntax-ns#type\n",
    "<br>http://example.com/sw2016/locatedIn\n",
    "<br>http://www.w3.org/2000/01/rdf-schema#range"
   ],
   "metadata": {}
  },
  {
   "cell_type": "code",
   "execution_count": 274,
   "source": [
    "predicates = []\r\n",
    "for s, p, o in g:\r\n",
    "    predicates.append(p)\r\n",
    "\r\n",
    "predicates.sort()\r\n",
    "#print(predicates)\r\n",
    "indexed_Pred = []\r\n",
    "counter = 1\r\n",
    "prev = \"none\"\r\n",
    "for pred in predicates:\r\n",
    "    if prev == pred:\r\n",
    "        counter += 1\r\n",
    "        indexed_Pred[-1] = [pred, counter]\r\n",
    "        prev = pred\r\n",
    "    else:\r\n",
    "        indexed_Pred.append([pred, 1])\r\n",
    "        prev = pred\r\n",
    "        counter = 1\r\n",
    "\r\n",
    "from operator import itemgetter\r\n",
    "\r\n",
    "indexed_Pred.sort(key=itemgetter(1), reverse=True)\r\n",
    "\r\n",
    "for iPred in indexed_Pred:\r\n",
    "    print(iPred[0])\r\n"
   ],
   "outputs": [
    {
     "output_type": "stream",
     "name": "stdout",
     "text": [
      "http://www.w3.org/1999/02/22-rdf-syntax-ns#type\n",
      "http://example.com/kad2020/has_Name\n",
      "http://example.com/kad2020/neighbours\n",
      "http://www.w3.org/2000/01/rdf-schema#range\n",
      "http://www.w3.org/2000/01/rdf-schema#subClassOf\n",
      "http://example.com/kad2020/has_Capital\n",
      "http://example.com/kad2020/has_SurfaceArea\n",
      "http://www.w3.org/2000/01/rdf-schema#domain\n",
      "http://www.w3.org/2000/01/rdf-schema#subPropertyOf\n"
     ]
    }
   ],
   "metadata": {}
  },
  {
   "cell_type": "markdown",
   "source": [
    "# B. Tasks related to Graph visualisations "
   ],
   "metadata": {}
  },
  {
   "cell_type": "code",
   "execution_count": null,
   "source": [],
   "outputs": [],
   "metadata": {}
  },
  {
   "cell_type": "markdown",
   "source": [
    "### - Task 3a: (1 Point) From RDF to .dot \r\n"
   ],
   "metadata": {}
  },
  {
   "cell_type": "markdown",
   "source": [
    "In the lecture, we have seen two ways of writing a knowledge graph (simple n-triples, and simple turtle). Let us consider a 3rd syntax, this time a syntax that is useful for visualisation. One standard for visualising graphs is the .dot format.\r\n",
    "\r\n",
    "Print the knowledge graph in .dot file format. Check https://graphviz.gitlab.io/documentation/ for the documentation. You will only need very little of this information, and the most relevant information can be found in the examples that are given. \r\n",
    "\r\n",
    "<br>Basically, an RDF graph in .dot format starts with \r\n",
    "<br>digraph G { \r\n",
    "    and then a list of links of the following form \r\n",
    "<br>s -> o [label=\"p\"]\r\n",
    "    for every (s p o ) in KG (separated by ;\r\n",
    "<br>Do not forget to end with a closing bracket. }\r\n",
    "\r\n",
    "An example is \r\n",
    "     \r\n",
    "     digraph G { s1 -> o1 [label=\"p1\"] ; s2 -> o2 [label=\"p2\"] } \r\n",
    "     \r\n",
    "for an RDF graph {(s1 p1 o1),(s2 p2 o2)}\r\n",
    "\r\n",
    "*You can check how your graph looks like. Just copy & paste your output into: http://www.webgraphviz.com/*"
   ],
   "metadata": {}
  },
  {
   "cell_type": "code",
   "execution_count": 275,
   "source": [
    "dotFormat = \"digraph G { \"\r\n",
    "\r\n",
    "for s,p,o in g:\r\n",
    "    s = s.split('/')[-1]\r\n",
    "    p = p.replace('#', '/')\r\n",
    "    p = p.split('/')[-1]\r\n",
    "    o = o.split('/')[-1]\r\n",
    "    dotFormat += s + ' -> ' + o + ' [label=\"' + p + '\"] ; '\r\n",
    "\r\n",
    "dotFormat = dotFormat[:-3] + ' }'\r\n",
    "\r\n",
    "print(dotFormat)\r\n"
   ],
   "outputs": [
    {
     "output_type": "stream",
     "name": "stdout",
     "text": [
      "digraph G { Iceland -> Iceland [label=\"has_Name\"] ; Iceland -> the_Ocean [label=\"neighbours\"] ; Netherlands -> The Netherlands [label=\"has_Name\"] ; Germany -> 357386 [label=\"has_SurfaceArea\"] ; Germany -> EuropeanCountry [label=\"type\"] ; containsCity -> City [label=\"range\"] ; Belgium -> Country [label=\"type\"] ; Germany -> Germany [label=\"has_Name\"] ; France -> France [label=\"has_Name\"] ; Netherlands -> Country [label=\"type\"] ; Belgium -> Belgium [label=\"has_Name\"] ; containsCity -> Country [label=\"domain\"] ; EuropeanCountry -> Country [label=\"subClassOf\"] ; hasCapital -> Capital [label=\"range\"] ; France -> France [label=\"neighbours\"] ; Capital -> City [label=\"subClassOf\"] ; Netherlands -> Amsterdam [label=\"has_Capital\"] ; Netherlands -> Belgium [label=\"neighbours\"] ; France -> EuropeanCountry [label=\"type\"] ; Amsterdam -> Capital [label=\"type\"] ; Brussels -> Capital [label=\"type\"] ; hasCapital -> containsCity [label=\"subPropertyOf\"] ; Belgium -> Germany [label=\"neighbours\"] }\n"
     ]
    }
   ],
   "metadata": {}
  },
  {
   "cell_type": "markdown",
   "source": [
    "### - Task 3b: (1 Point) From RDF to .dot with \"semantic information\""
   ],
   "metadata": {}
  },
  {
   "cell_type": "markdown",
   "source": [
    "There is a conceptual distinction between properties, instances and classes (sets of instances). A simple way of checking is the following\n",
    "\n",
    "1. in a triple (s a o), with predicate a (which is a special abbreviation for the predicate rdf:type), the s is an Instance, and o is a Class. \n",
    "2. in a triple (s rdfs:subClassOf o) both s and o are Classes. \n",
    "3. in a triple (p rdfs:domain o) p is a Property and o is a Class. \n",
    "4. in a triple (p rdfs:range o)  p is a Property and o is a Class. \n",
    "\n",
    "Make a .dot representation for an RDF graph that distinguishes between types of links (RDF vocabulary vs others) and types of nodes (Classes versus Instances) via different colors. \n",
    "\n",
    "*You can check how your graph looks like. Just copy & paste your output into: http://www.webgraphviz.com/*"
   ],
   "metadata": {}
  },
  {
   "cell_type": "code",
   "execution_count": 276,
   "source": [
    "dotFormat = \"digraph G { \"\r\n",
    "\r\n",
    "for s,p,o in g:\r\n",
    "    s = s.split('/')[-1]\r\n",
    "    p = p.replace('#', '/')\r\n",
    "    p = p.split('/')[-1]\r\n",
    "    o = o.split('/')[-1]\r\n",
    "    \r\n",
    "    \r\n",
    "    if p == 'type':\r\n",
    "        dotFormat += s + ' -> ' + o + ' [label=\"' + p + '\"]; '\r\n",
    "        dotFormat += s + ' [color=blue, style=filled]; '  # Make instance Blue\r\n",
    "        dotFormat += o + ' [color=red, style=filled]; ' # Make class red\r\n",
    "    elif p == 'subClassOf':\r\n",
    "        dotFormat += s + ' -> ' + o + ' [label=\"' + p + '\"]; '\r\n",
    "        dotFormat += s + ' [color=red, style=filled]; ' # Make class red\r\n",
    "        dotFormat += o + ' [color=red, style=filled]; '# Make class red\r\n",
    "    elif p == 'domain':\r\n",
    "        dotFormat += s + ' -> ' + o + ' [label=\"' + p + '\", color=green]; ' # Make property green\r\n",
    "        dotFormat += o + ' [color=red, style=filled]; ' # Make class red\r\n",
    "    elif p == 'range':\r\n",
    "        dotFormat += s + ' -> ' + o + ' [label=\"' + p + '\", color=green]; ' # Make property green\r\n",
    "        dotFormat += o + ' [color=red, style=filled]; ' # Make class red\r\n",
    "    else:\r\n",
    "        dotFormat += s + ' -> ' + o + ' [label=\"' + p + '\"]; '\r\n",
    "\r\n",
    "\r\n",
    "dotFormat = dotFormat[:-2] + ' }'\r\n",
    "\r\n",
    "print(dotFormat)"
   ],
   "outputs": [
    {
     "output_type": "stream",
     "name": "stdout",
     "text": [
      "digraph G { Iceland -> Iceland [label=\"has_Name\"]; Iceland -> the_Ocean [label=\"neighbours\"]; Netherlands -> The Netherlands [label=\"has_Name\"]; Germany -> 357386 [label=\"has_SurfaceArea\"]; Germany -> EuropeanCountry [label=\"type\"]; Germany [color=blue, style=filled]; EuropeanCountry [color=red, style=filled]; containsCity -> City [label=\"range\", color=green]; City [color=red, style=filled]; Belgium -> Country [label=\"type\"]; Belgium [color=blue, style=filled]; Country [color=red, style=filled]; Germany -> Germany [label=\"has_Name\"]; France -> France [label=\"has_Name\"]; Netherlands -> Country [label=\"type\"]; Netherlands [color=blue, style=filled]; Country [color=red, style=filled]; Belgium -> Belgium [label=\"has_Name\"]; containsCity -> Country [label=\"domain\", color=green]; Country [color=red, style=filled]; EuropeanCountry -> Country [label=\"subClassOf\"]; EuropeanCountry [color=red, style=filled]; Country [color=red, style=filled]; hasCapital -> Capital [label=\"range\", color=green]; Capital [color=red, style=filled]; France -> France [label=\"neighbours\"]; Capital -> City [label=\"subClassOf\"]; Capital [color=red, style=filled]; City [color=red, style=filled]; Netherlands -> Amsterdam [label=\"has_Capital\"]; Netherlands -> Belgium [label=\"neighbours\"]; France -> EuropeanCountry [label=\"type\"]; France [color=blue, style=filled]; EuropeanCountry [color=red, style=filled]; Amsterdam -> Capital [label=\"type\"]; Amsterdam [color=blue, style=filled]; Capital [color=red, style=filled]; Brussels -> Capital [label=\"type\"]; Brussels [color=blue, style=filled]; Capital [color=red, style=filled]; hasCapital -> containsCity [label=\"subPropertyOf\"]; Belgium -> Germany [label=\"neighbours\"] }\n"
     ]
    }
   ],
   "metadata": {}
  },
  {
   "cell_type": "markdown",
   "source": [
    "### - Task 4a: (1 Point) Deriving implicit knowledge (a bit of schema)\n",
    "\n",
    "We will look into Schema information in the latter modules, but let us try already to find some implicit information in a first bit of inferencing: whenever there are two statements (s a o) and (o rdfs:subClassOf o2) we can derive (and later prove) that (s a o2). \n",
    "\n",
    "Write a procedure that adds all implied triples to our knowledge graph. "
   ],
   "metadata": {}
  },
  {
   "cell_type": "code",
   "execution_count": 277,
   "source": [
    "for s,p,o in g:\r\n",
    "    s = s.split('/')[-1]\r\n",
    "    p = p.replace('#', '/')\r\n",
    "    p = p.split('/')[-1]\r\n",
    "    o = o.split('/')[-1]\r\n",
    "    #print(s + p + o)\r\n",
    "    if p == 'subClassOf':\r\n",
    "        s1 = s\r\n",
    "        o1 = o\r\n",
    "        print(s1 + ' ' + o1)\r\n",
    "\r\n",
    "        for s,p,o in g:\r\n",
    "            s = s.split('/')[-1]\r\n",
    "            p = p.replace('#', '/')\r\n",
    "            p = p.split('/')[-1]\r\n",
    "            o = o.split('/')[-1]\r\n",
    "\r\n",
    "            if o == s1:\r\n",
    "                print(s+p+o)\r\n",
    "                print(s+p+o1)\r\n",
    "                g.add((ex[s], ex.impType, ex[o1]))\r\n",
    "\r\n",
    "         \r\n",
    "\r\n",
    "\r\n",
    "\r\n",
    "\r\n",
    "#print(s + p + o)\r\n"
   ],
   "outputs": [
    {
     "output_type": "stream",
     "name": "stdout",
     "text": [
      "EuropeanCountry Country\n",
      "GermanytypeEuropeanCountry\n",
      "GermanytypeCountry\n",
      "FrancetypeEuropeanCountry\n",
      "FrancetypeCountry\n",
      "Capital City\n",
      "hasCapitalrangeCapital\n",
      "hasCapitalrangeCity\n",
      "AmsterdamtypeCapital\n",
      "AmsterdamtypeCity\n",
      "BrusselstypeCapital\n",
      "BrusselstypeCity\n"
     ]
    }
   ],
   "metadata": {}
  },
  {
   "cell_type": "markdown",
   "source": [
    "### - Task 4b: (Optional - 1 Extra Point) Visualising implicit knowledge\n",
    "\n",
    "Produce a .dot version of the graph with those implies implicit triples, and mark the edges of those triples with a different color or arrow style. "
   ],
   "metadata": {}
  },
  {
   "cell_type": "code",
   "execution_count": 278,
   "source": [
    "dotFormat = \"digraph G { \"\r\n",
    "storeEurope = ''\r\n",
    "storeCapital = ''\r\n",
    "\r\n",
    "for s,p,o in g:\r\n",
    "    s = s.split('/')[-1]\r\n",
    "    p = p.replace('#', '/')\r\n",
    "    p = p.split('/')[-1]\r\n",
    "    o = o.split('/')[-1]\r\n",
    "    \r\n",
    "    \r\n",
    "    if p == 'type':\r\n",
    "        dotFormat += s + ' -> ' + o + ' [label=\"' + p + '\"]; '\r\n",
    "        dotFormat += s + ' [color=blue, style=filled]; '  # Make instance Blue\r\n",
    "        dotFormat += o + ' [color=red, style=filled]; ' # Make class red\r\n",
    "    elif p == 'impType':\r\n",
    "        dotFormat += s + ' -> ' + o + ' [label=\"' + p + '\",color=purple]; '\r\n",
    "    elif p == 'subClassOf':\r\n",
    "        dotFormat += s + ' -> ' + o + ' [label=\"' + p + '\"]; '\r\n",
    "        dotFormat += s + ' [color=red, style=filled]; ' # Make class red\r\n",
    "        dotFormat += o + ' [color=red, style=filled]; '# Make class red\r\n",
    "    elif p == 'domain':\r\n",
    "        dotFormat += s + ' -> ' + o + ' [label=\"' + p + '\", color=green]; ' # Make property green\r\n",
    "        dotFormat += o + ' [color=red, style=filled]; ' # Make class red\r\n",
    "    elif p == 'range':\r\n",
    "        dotFormat += s + ' -> ' + o + ' [label=\"' + p + '\", color=green]; ' # Make property green\r\n",
    "        dotFormat += o + ' [color=red, style=filled]; ' # Make class red\r\n",
    "    else:\r\n",
    "        dotFormat += s + ' -> ' + o + ' [label=\"' + p + '\"]; '\r\n",
    "\r\n",
    "\r\n",
    "dotFormat = dotFormat[:-2] + ' }'\r\n",
    "\r\n",
    "print(dotFormat)"
   ],
   "outputs": [
    {
     "output_type": "stream",
     "name": "stdout",
     "text": [
      "digraph G { Iceland -> Iceland [label=\"has_Name\"]; Iceland -> the_Ocean [label=\"neighbours\"]; Netherlands -> The Netherlands [label=\"has_Name\"]; Germany -> 357386 [label=\"has_SurfaceArea\"]; Brussels -> City [label=\"subType\",color=purple]; Germany -> EuropeanCountry [label=\"type\"]; Germany [color=blue, style=filled]; EuropeanCountry [color=red, style=filled]; containsCity -> City [label=\"range\", color=green]; City [color=red, style=filled]; Belgium -> Country [label=\"type\"]; Belgium [color=blue, style=filled]; Country [color=red, style=filled]; Amsterdam -> City [label=\"subType\",color=purple]; Germany -> Germany [label=\"has_Name\"]; France -> France [label=\"has_Name\"]; Netherlands -> Country [label=\"type\"]; Netherlands [color=blue, style=filled]; Country [color=red, style=filled]; Belgium -> Belgium [label=\"has_Name\"]; containsCity -> Country [label=\"domain\", color=green]; Country [color=red, style=filled]; EuropeanCountry -> Country [label=\"subClassOf\"]; EuropeanCountry [color=red, style=filled]; Country [color=red, style=filled]; Germany -> Country [label=\"subType\",color=purple]; hasCapital -> Capital [label=\"range\", color=green]; Capital [color=red, style=filled]; hasCapital -> City [label=\"subType\",color=purple]; France -> France [label=\"neighbours\"]; France -> Country [label=\"subType\",color=purple]; Capital -> City [label=\"subClassOf\"]; Capital [color=red, style=filled]; City [color=red, style=filled]; Netherlands -> Amsterdam [label=\"has_Capital\"]; Netherlands -> Belgium [label=\"neighbours\"]; France -> EuropeanCountry [label=\"type\"]; France [color=blue, style=filled]; EuropeanCountry [color=red, style=filled]; Amsterdam -> Capital [label=\"type\"]; Amsterdam [color=blue, style=filled]; Capital [color=red, style=filled]; Brussels -> Capital [label=\"type\"]; Brussels [color=blue, style=filled]; Capital [color=red, style=filled]; hasCapital -> containsCity [label=\"subPropertyOf\"]; Belgium -> Germany [label=\"neighbours\"] }\n"
     ]
    }
   ],
   "metadata": {}
  },
  {
   "cell_type": "markdown",
   "source": [
    "# C. Tasks related to local copies of external RDF Datasets using SPARQL"
   ],
   "metadata": {}
  },
  {
   "cell_type": "markdown",
   "source": [
    "Until now, we have manipulated local knowledge graphs, but as we claimed in the lectures, the advantage of knowledge graphs is that they can easily be linked with other datasets on the Web. \n",
    "\n",
    "In the remaining 3 tasks, we will manipulate data from the Web, and ask complex queries over this web data. \n",
    "\n",
    "In the first task, we will access web data, make a local copy of it, and then query it. In the other two tasks, we will query live data directly from web Knowledge Graphs (in this case, the SPARQL endpoint of DBPedia). "
   ],
   "metadata": {}
  },
  {
   "cell_type": "markdown",
   "source": [
    "### - Task 5: (1 Point) Show and manipulate data about RDF resources on the Web "
   ],
   "metadata": {}
  },
  {
   "cell_type": "markdown",
   "source": [
    "With rdflib we can easily load a graph, even if it comes from a source on the Web. The following snupped loads as graph the information about the resource Amsterdam from Dbpedia."
   ],
   "metadata": {}
  },
  {
   "cell_type": "code",
   "execution_count": 279,
   "source": [
    "import rdflib\r\n",
    "from rdflib import Literal, URIRef\r\n",
    "g=rdflib.Graph()\r\n",
    "g.load('http://dbpedia.org/resource/Amsterdam')\r\n",
    "g.load('http://dbpedia.org/resource/Rotterdam')"
   ],
   "outputs": [
    {
     "output_type": "error",
     "ename": "OSError",
     "evalue": "[WinError 123] The filename, directory name, or volume label syntax is incorrect: 'http:\\\\dbpedia.org\\\\resource\\\\Amsterdam'",
     "traceback": [
      "\u001b[1;31m---------------------------------------------------------------------------\u001b[0m",
      "\u001b[1;31mOSError\u001b[0m                                   Traceback (most recent call last)",
      "\u001b[1;32m<ipython-input-279-3c0feaa13320>\u001b[0m in \u001b[0;36m<module>\u001b[1;34m\u001b[0m\n\u001b[0;32m      2\u001b[0m \u001b[1;32mfrom\u001b[0m \u001b[0mrdflib\u001b[0m \u001b[1;32mimport\u001b[0m \u001b[0mLiteral\u001b[0m\u001b[1;33m,\u001b[0m \u001b[0mURIRef\u001b[0m\u001b[1;33m\u001b[0m\u001b[1;33m\u001b[0m\u001b[0m\n\u001b[0;32m      3\u001b[0m \u001b[0mg\u001b[0m\u001b[1;33m=\u001b[0m\u001b[0mrdflib\u001b[0m\u001b[1;33m.\u001b[0m\u001b[0mGraph\u001b[0m\u001b[1;33m(\u001b[0m\u001b[1;33m)\u001b[0m\u001b[1;33m\u001b[0m\u001b[1;33m\u001b[0m\u001b[0m\n\u001b[1;32m----> 4\u001b[1;33m \u001b[0mg\u001b[0m\u001b[1;33m.\u001b[0m\u001b[0mload\u001b[0m\u001b[1;33m(\u001b[0m\u001b[1;34m'http://dbpedia.org/resource/Amsterdam'\u001b[0m\u001b[1;33m)\u001b[0m\u001b[1;33m\u001b[0m\u001b[1;33m\u001b[0m\u001b[0m\n\u001b[0m\u001b[0;32m      5\u001b[0m \u001b[0mg\u001b[0m\u001b[1;33m.\u001b[0m\u001b[0mload\u001b[0m\u001b[1;33m(\u001b[0m\u001b[1;34m'http://dbpedia.org/resource/Rotterdam'\u001b[0m\u001b[1;33m)\u001b[0m\u001b[1;33m\u001b[0m\u001b[1;33m\u001b[0m\u001b[0m\n",
      "\u001b[1;32m~\\AppData\\Local\\Programs\\Python\\Python38\\lib\\site-packages\\rdflib\\graph.py\u001b[0m in \u001b[0;36mload\u001b[1;34m(self, source, publicID, format)\u001b[0m\n\u001b[0;32m   1231\u001b[0m             )\n\u001b[0;32m   1232\u001b[0m         )\n\u001b[1;32m-> 1233\u001b[1;33m         \u001b[0mself\u001b[0m\u001b[1;33m.\u001b[0m\u001b[0mparse\u001b[0m\u001b[1;33m(\u001b[0m\u001b[0msource\u001b[0m\u001b[1;33m,\u001b[0m \u001b[0mpublicID\u001b[0m\u001b[1;33m,\u001b[0m \u001b[0mformat\u001b[0m\u001b[1;33m)\u001b[0m\u001b[1;33m\u001b[0m\u001b[1;33m\u001b[0m\u001b[0m\n\u001b[0m\u001b[0;32m   1234\u001b[0m \u001b[1;33m\u001b[0m\u001b[0m\n\u001b[0;32m   1235\u001b[0m     def query(\n",
      "\u001b[1;32m~\\AppData\\Local\\Programs\\Python\\Python38\\lib\\site-packages\\rdflib\\graph.py\u001b[0m in \u001b[0;36mparse\u001b[1;34m(self, source, publicID, format, location, file, data, **args)\u001b[0m\n\u001b[0;32m   1186\u001b[0m         \"\"\"\n\u001b[0;32m   1187\u001b[0m \u001b[1;33m\u001b[0m\u001b[0m\n\u001b[1;32m-> 1188\u001b[1;33m         source = create_input_source(\n\u001b[0m\u001b[0;32m   1189\u001b[0m             \u001b[0msource\u001b[0m\u001b[1;33m=\u001b[0m\u001b[0msource\u001b[0m\u001b[1;33m,\u001b[0m\u001b[1;33m\u001b[0m\u001b[1;33m\u001b[0m\u001b[0m\n\u001b[0;32m   1190\u001b[0m             \u001b[0mpublicID\u001b[0m\u001b[1;33m=\u001b[0m\u001b[0mpublicID\u001b[0m\u001b[1;33m,\u001b[0m\u001b[1;33m\u001b[0m\u001b[1;33m\u001b[0m\u001b[0m\n",
      "\u001b[1;32m~\\AppData\\Local\\Programs\\Python\\Python38\\lib\\site-packages\\rdflib\\parser.py\u001b[0m in \u001b[0;36mcreate_input_source\u001b[1;34m(source, publicID, location, file, data, format)\u001b[0m\n\u001b[0;32m    279\u001b[0m             \u001b[0mfile\u001b[0m\u001b[1;33m,\u001b[0m\u001b[1;33m\u001b[0m\u001b[1;33m\u001b[0m\u001b[0m\n\u001b[0;32m    280\u001b[0m             \u001b[0minput_source\u001b[0m\u001b[1;33m,\u001b[0m\u001b[1;33m\u001b[0m\u001b[1;33m\u001b[0m\u001b[0m\n\u001b[1;32m--> 281\u001b[1;33m         \u001b[1;33m)\u001b[0m \u001b[1;33m=\u001b[0m \u001b[0m_create_input_source_from_location\u001b[0m\u001b[1;33m(\u001b[0m\u001b[1;33m\u001b[0m\u001b[1;33m\u001b[0m\u001b[0m\n\u001b[0m\u001b[0;32m    282\u001b[0m             \u001b[0mfile\u001b[0m\u001b[1;33m=\u001b[0m\u001b[0mfile\u001b[0m\u001b[1;33m,\u001b[0m\u001b[1;33m\u001b[0m\u001b[1;33m\u001b[0m\u001b[0m\n\u001b[0;32m    283\u001b[0m             \u001b[0mformat\u001b[0m\u001b[1;33m=\u001b[0m\u001b[0mformat\u001b[0m\u001b[1;33m,\u001b[0m\u001b[1;33m\u001b[0m\u001b[1;33m\u001b[0m\u001b[0m\n",
      "\u001b[1;32m~\\AppData\\Local\\Programs\\Python\\Python38\\lib\\site-packages\\rdflib\\parser.py\u001b[0m in \u001b[0;36m_create_input_source_from_location\u001b[1;34m(file, format, input_source, location)\u001b[0m\n\u001b[0;32m    310\u001b[0m     \u001b[1;31m# Fix for Windows problem https://github.com/RDFLib/rdflib/issues/145\u001b[0m\u001b[1;33m\u001b[0m\u001b[1;33m\u001b[0m\u001b[1;33m\u001b[0m\u001b[0m\n\u001b[0;32m    311\u001b[0m     \u001b[0mpath\u001b[0m \u001b[1;33m=\u001b[0m \u001b[0mpathlib\u001b[0m\u001b[1;33m.\u001b[0m\u001b[0mPath\u001b[0m\u001b[1;33m(\u001b[0m\u001b[0mlocation\u001b[0m\u001b[1;33m)\u001b[0m\u001b[1;33m\u001b[0m\u001b[1;33m\u001b[0m\u001b[0m\n\u001b[1;32m--> 312\u001b[1;33m     \u001b[1;32mif\u001b[0m \u001b[0mpath\u001b[0m\u001b[1;33m.\u001b[0m\u001b[0mexists\u001b[0m\u001b[1;33m(\u001b[0m\u001b[1;33m)\u001b[0m\u001b[1;33m:\u001b[0m\u001b[1;33m\u001b[0m\u001b[1;33m\u001b[0m\u001b[0m\n\u001b[0m\u001b[0;32m    313\u001b[0m         \u001b[0mlocation\u001b[0m \u001b[1;33m=\u001b[0m \u001b[0mpath\u001b[0m\u001b[1;33m.\u001b[0m\u001b[0mabsolute\u001b[0m\u001b[1;33m(\u001b[0m\u001b[1;33m)\u001b[0m\u001b[1;33m.\u001b[0m\u001b[0mas_uri\u001b[0m\u001b[1;33m(\u001b[0m\u001b[1;33m)\u001b[0m\u001b[1;33m\u001b[0m\u001b[1;33m\u001b[0m\u001b[0m\n\u001b[0;32m    314\u001b[0m \u001b[1;33m\u001b[0m\u001b[0m\n",
      "\u001b[1;32m~\\AppData\\Local\\Programs\\Python\\Python38\\lib\\pathlib.py\u001b[0m in \u001b[0;36mexists\u001b[1;34m(self)\u001b[0m\n\u001b[0;32m   1383\u001b[0m         \"\"\"\n\u001b[0;32m   1384\u001b[0m         \u001b[1;32mtry\u001b[0m\u001b[1;33m:\u001b[0m\u001b[1;33m\u001b[0m\u001b[1;33m\u001b[0m\u001b[0m\n\u001b[1;32m-> 1385\u001b[1;33m             \u001b[0mself\u001b[0m\u001b[1;33m.\u001b[0m\u001b[0mstat\u001b[0m\u001b[1;33m(\u001b[0m\u001b[1;33m)\u001b[0m\u001b[1;33m\u001b[0m\u001b[1;33m\u001b[0m\u001b[0m\n\u001b[0m\u001b[0;32m   1386\u001b[0m         \u001b[1;32mexcept\u001b[0m \u001b[0mOSError\u001b[0m \u001b[1;32mas\u001b[0m \u001b[0me\u001b[0m\u001b[1;33m:\u001b[0m\u001b[1;33m\u001b[0m\u001b[1;33m\u001b[0m\u001b[0m\n\u001b[0;32m   1387\u001b[0m             \u001b[1;32mif\u001b[0m \u001b[1;32mnot\u001b[0m \u001b[0m_ignore_error\u001b[0m\u001b[1;33m(\u001b[0m\u001b[0me\u001b[0m\u001b[1;33m)\u001b[0m\u001b[1;33m:\u001b[0m\u001b[1;33m\u001b[0m\u001b[1;33m\u001b[0m\u001b[0m\n",
      "\u001b[1;32m~\\AppData\\Local\\Programs\\Python\\Python38\\lib\\pathlib.py\u001b[0m in \u001b[0;36mstat\u001b[1;34m(self)\u001b[0m\n\u001b[0;32m   1189\u001b[0m         \u001b[0mos\u001b[0m\u001b[1;33m.\u001b[0m\u001b[0mstat\u001b[0m\u001b[1;33m(\u001b[0m\u001b[1;33m)\u001b[0m \u001b[0mdoes\u001b[0m\u001b[1;33m.\u001b[0m\u001b[1;33m\u001b[0m\u001b[1;33m\u001b[0m\u001b[0m\n\u001b[0;32m   1190\u001b[0m         \"\"\"\n\u001b[1;32m-> 1191\u001b[1;33m         \u001b[1;32mreturn\u001b[0m \u001b[0mself\u001b[0m\u001b[1;33m.\u001b[0m\u001b[0m_accessor\u001b[0m\u001b[1;33m.\u001b[0m\u001b[0mstat\u001b[0m\u001b[1;33m(\u001b[0m\u001b[0mself\u001b[0m\u001b[1;33m)\u001b[0m\u001b[1;33m\u001b[0m\u001b[1;33m\u001b[0m\u001b[0m\n\u001b[0m\u001b[0;32m   1192\u001b[0m \u001b[1;33m\u001b[0m\u001b[0m\n\u001b[0;32m   1193\u001b[0m     \u001b[1;32mdef\u001b[0m \u001b[0mowner\u001b[0m\u001b[1;33m(\u001b[0m\u001b[0mself\u001b[0m\u001b[1;33m)\u001b[0m\u001b[1;33m:\u001b[0m\u001b[1;33m\u001b[0m\u001b[1;33m\u001b[0m\u001b[0m\n",
      "\u001b[1;31mOSError\u001b[0m: [WinError 123] The filename, directory name, or volume label syntax is incorrect: 'http:\\\\dbpedia.org\\\\resource\\\\Amsterdam'"
     ]
    }
   ],
   "metadata": {}
  },
  {
   "cell_type": "markdown",
   "source": [
    "Let us start by showing diverse bits of information w.r.t  Amsterdam and Rotterdam in DBPedia. It is very similar to task 1, but now with Web Data. \n",
    "\n",
    "First, query the graph g (now containing the DBPedia information about Amsterdam and Rotterdam) and check whether you can find someone who was born in Amsterdam (is dbo:birthPlace of) and died in Rotterdam (is dbo:deathPlace of)?"
   ],
   "metadata": {}
  },
  {
   "cell_type": "code",
   "execution_count": null,
   "source": [
    "qres = g.query(\r\n",
    "   \"\"\"\r\n",
    "    PREFIX dbr: <http://dbpedia.org/resource/>\r\n",
    "    PREFIX dbo: <http://dbpedia.org/ontology/>\r\n",
    "    SELECT ?s\r\n",
    "        WHERE {\r\n",
    "            ?s dbo:birthPlace dbr:Amsterdam .\r\n",
    "            ?s dbo:deathPlace dbr:Rotterdam .\r\n",
    "        }\r\n",
    "        LIMIT 10\r\n",
    "       \"\"\")\r\n",
    "for row in qres:\r\n",
    "    print(\"%s\" % row)"
   ],
   "outputs": [],
   "metadata": {}
  },
  {
   "cell_type": "markdown",
   "source": [
    "Write a query to check whether there is an album that was recorded both in Rotterdam and Amsterdam? You need to look at the data to know which property you should check for. \n",
    "\n",
    "To get an intuition of what is in the knowledge graph you might want to look at the human readable rendering on : http://dbpedia.org/resource/Amsterdam"
   ],
   "metadata": {}
  },
  {
   "cell_type": "code",
   "execution_count": null,
   "source": [
    "# Your code here"
   ],
   "outputs": [],
   "metadata": {
    "scrolled": true
   }
  },
  {
   "cell_type": "markdown",
   "source": [
    "### - Task 6: (2 Points) Ask SPARQL against live data using Yasgui\n",
    "\n",
    "Yasgui (http://yasgui.org/) is a nice graphical interface for asking queries.\n",
    "\n",
    "Run a new query against http://dbpedia.org/sparql that does the following:\n",
    "\n",
    "- Find all languages spoken in countries that are not official languages of that country\n",
    "- The query should return two colums: the country, and the number of languages.\n",
    "- Order the countries by the number of unofficial languages, from high to low."
   ],
   "metadata": {}
  },
  {
   "cell_type": "code",
   "execution_count": null,
   "source": [
    "# Add here the SPARQL query (not Python) code. (copy & paste from Yasgui)\r\n",
    "# When you run the query in Yasgui you should get an answer. \r\n",
    "# Don't worry that executing this cell will return an error message (a SPARQL query is not a Python code, so it should give an error message here)."
   ],
   "outputs": [],
   "metadata": {}
  },
  {
   "cell_type": "markdown",
   "source": [
    "### - Task 7: (1 Point) SPARQL \n",
    "\n",
    "Write a SPARQL query which returns all relationship(s) between the series \"The Office (UK)\" and the actor \"Ricky Gervais\" (literally).\n",
    "\n",
    "Be careful to check for relations in both directions (but not necessarily the same relation in both directions).  \n",
    "\n",
    "Use Yasgui to design the correct SPARQL query, and copy paste it in the cell below. "
   ],
   "metadata": {}
  },
  {
   "cell_type": "code",
   "execution_count": null,
   "source": [
    "# Add here the SPARQL query (not Python) code. (copy & paste from Yasgui)\r\n",
    "# When executing against Yasgui you should get an answer. \r\n",
    "# Don't worry that executing this cell will return an error message (a SPARQL query is not a Python code, so it should give an error message here)."
   ],
   "outputs": [],
   "metadata": {}
  },
  {
   "cell_type": "code",
   "execution_count": null,
   "source": [],
   "outputs": [],
   "metadata": {}
  }
 ],
 "metadata": {
  "kernelspec": {
   "name": "python3",
   "display_name": "Python 3.8.1 64-bit"
  },
  "language_info": {
   "codemirror_mode": {
    "name": "ipython",
    "version": 3
   },
   "file_extension": ".py",
   "mimetype": "text/x-python",
   "name": "python",
   "nbconvert_exporter": "python",
   "pygments_lexer": "ipython3",
   "version": "3.8.1"
  },
  "interpreter": {
   "hash": "0385e128c5aca483b1b37a0be86de9f407716048be9491c0a15312f4c6b7dfa0"
  }
 },
 "nbformat": 4,
 "nbformat_minor": 4
}